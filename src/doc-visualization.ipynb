{
 "cells": [
  {
   "cell_type": "code",
   "execution_count": null,
   "metadata": {},
   "outputs": [],
   "source": [
    "from PIL import ImageFilter, Image\n",
    "import pytesseract\n",
    "import IPython.display \n",
    "from  pdf2image import convert_from_path\n",
    "from os import listdir\n",
    "import numpy as np\n",
    "from matplotlib import pyplot as plt\n",
    "import cv2"
   ]
  },
  {
   "cell_type": "code",
   "execution_count": null,
   "metadata": {},
   "outputs": [],
   "source": [
    "path = 'exploration_data/'\n",
    "dpi = 450\n",
    "first_page = 1\n",
    "last_page = 2 # value None means that the last page will be the last\n",
    "thread_count = 1\n",
    "size = None"
   ]
  },
  {
   "cell_type": "code",
   "execution_count": null,
   "metadata": {},
   "outputs": [],
   "source": [
    "# store each pdf images from the pdfs directory\n",
    "dir_images = []\n",
    "# TODO(leommiranda): should I use cropbox instead of mediabox?\n",
    "for pdf_path in listdir(path):\n",
    "    try:\n",
    "        # TODO(leommiranda): substituir este erro por um conversor de pdf normal para texto\n",
    "        text = dadasd\n",
    "    except:\n",
    "        pdf_images = convert_from_path(pdf_path=path+pdf_path, \n",
    "                                       dpi=dpi, \n",
    "                                       first_page=first_page, \n",
    "                                       last_page=last_page, \n",
    "                                       thread_count=thread_count, \n",
    "                                       size=size)\n",
    "        dir_images.append(pdf_images)"
   ]
  },
  {
   "cell_type": "code",
   "execution_count": null,
   "metadata": {},
   "outputs": [],
   "source": [
    "# Visualize gray images\n",
    "for pdf_images in dir_images:\n",
    "    for pdf_img in pdf_images:\n",
    "        pdf_img = np.array(pdf_img.convert('RGB'))\n",
    "        pdf_img = cv2.cvtColor(pdf_img, cv2.COLOR_RGB2GRAY)\n",
    "        plt.figure(dpi=dpi)\n",
    "        plt.imshow(pdf_img)"
   ]
  },
  {
   "cell_type": "code",
   "execution_count": null,
   "metadata": {},
   "outputs": [],
   "source": [
    "# Visualize gray images with bilateralFilter() and adaptiveThreshold()\n",
    "for pdf_images in dir_images:\n",
    "    for pdf_img in pdf_images:\n",
    "        pdf_img = np.array(pdf_img.convert('RGB'))\n",
    "        pdf_img = cv2.cvtColor(pdf_img, cv2.COLOR_RGB2GRAY)\n",
    "        # makes adaptiveThreshold run faster and remove noise\n",
    "        pdf_img = cv2.bilateralFilter(pdf_img, 17, 75, 75)\n",
    "        # deals better with ilumination issues than the OTSU threshold algorithm \n",
    "            # which is the tesseract default algorithm\n",
    "        # If ilumination isn't a big deal, remeber to comment out bilateralFilter() and adaptiveThreshold()\n",
    "        pdf_img = cv2.adaptiveThreshold(pdf_img, 255, cv2.ADAPTIVE_THRESH_MEAN_C, cv2.THRESH_BINARY, 11, 2)\n",
    "        # close operation, it seems unuseful when tesseract is applied, but I'm not sure\n",
    "        # pdf_img = cv2.morphologyEx(pdf_img, cv2.MORPH_CLOSE, (21,21))\n",
    "        plt.figure(dpi=dpi)\n",
    "        plt.imshow(pdf_img)"
   ]
  },
  {
   "cell_type": "code",
   "execution_count": null,
   "metadata": {},
   "outputs": [],
   "source": [
    "# Visualize gray images with OTSU threshold, which doesn't deal quite well with ilumination\n",
    "    # here the OpenCV implementation of OTSU is being applied, which is probably not the same imp. of tesseract \n",
    "for pdf_images in dir_images:\n",
    "    for pdf_img in pdf_images:\n",
    "        pdf_img = np.array(pdf_img.convert('RGB'))\n",
    "        pdf_img = cv2.cvtColor(pdf_img, cv2.COLOR_RGB2GRAY)\n",
    "        pdf_img = cv2.threshold(pdf_img, 0, 135, cv2.THRESH_BINARY + cv2.THRESH_OTSU)\n",
    "        # close operation, it seems unuseful when tesseract is applied, but I'm not sure\n",
    "        pdf_img = cv2.morphologyEx(pdf_img, cv2.MORPH_CLOSE, (21,21))\n",
    "        plt.figure(dpi=dpi)\n",
    "        plt.imshow(pdf_img)"
   ]
  }
 ],
 "metadata": {
  "kernelspec": {
   "display_name": "Python 3",
   "language": "python",
   "name": "python3"
  },
  "language_info": {
   "codemirror_mode": {
    "name": "ipython",
    "version": 3
   },
   "file_extension": ".py",
   "mimetype": "text/x-python",
   "name": "python",
   "nbconvert_exporter": "python",
   "pygments_lexer": "ipython3",
   "version": "3.6.9"
  }
 },
 "nbformat": 4,
 "nbformat_minor": 4
}
