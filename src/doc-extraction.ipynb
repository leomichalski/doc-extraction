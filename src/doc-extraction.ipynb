{
 "cells": [
  {
   "cell_type": "code",
   "execution_count": null,
   "metadata": {},
   "outputs": [],
   "source": [
    "# if this doens't work, download directly from \n",
    "# https://storage.cloud.google.com/doc-extraction/exploration_data.zip\n",
    "# and move the .zip file to this folder (/doc-extraction/src)\n",
    "!dvc pull\n",
    "# if this doesn't work, launch a terminal and type it again\n",
    "!unzip exploration_data.zip"
   ]
  },
  {
   "cell_type": "code",
   "execution_count": 2,
   "metadata": {},
   "outputs": [],
   "source": [
    "from PIL import ImageFilter, Image\n",
    "import pytesseract\n",
    "import IPython.display \n",
    "from  pdf2image import convert_from_path\n",
    "from os import listdir\n",
    "import numpy as np\n",
    "from matplotlib import pyplot as plt\n",
    "import cv2"
   ]
  },
  {
   "cell_type": "code",
   "execution_count": 3,
   "metadata": {},
   "outputs": [],
   "source": [
    "# PARAMETERS OF pdf2image.convert_from_path()\n",
    "path = 'exploration_data/'\n",
    "dpi = 450 # TODO(leommiranda): test lower dpi values with the ocr algorithm\n",
    "first_page = 1\n",
    "last_page = 2 # value None means that the last page will be the last\n",
    "thread_count = 1\n",
    "size = None\n",
    "\n",
    "\n",
    "#PARAMETERS OF pytesseract.image_to_string(), except for --lang parameter\n",
    "\"\"\"\n",
    "--psm\n",
    "    0 = Orientation and script detection (OSD) only.\n",
    "    1 = Automatic page segmentation with OSD.\n",
    "    2 = Automatic page segmentation, but no OSD, or OCR. (not implemented)\n",
    "    3 = Fully automatic page segmentation, but no OSD. (Default)\n",
    "    4 = Assume a single column of text of variable sizes.\n",
    "    5 = Assume a single uniform block of vertically aligned text.\n",
    "    6 = Assume a single uniform block of text.\n",
    "    7 = Treat the image as a single text line.\n",
    "    8 = Treat the image as a single word.\n",
    "    9 = Treat the image as a single word in a circle.\n",
    "    10 = Treat the image as a single character.\n",
    "    11 = Sparse text. Find as much text as possible in no particular order.\n",
    "    12 = Sparse text with OSD.\n",
    "    13 = Raw line. Treat the image as a single text line,\n",
    "         bypassing hacks that are Tesseract-specific.\n",
    "\n",
    "--oem\n",
    "    0 = Original Tesseract only.\n",
    "    1 = Neural nets LSTM only.\n",
    "    2 = Tesseract + LSTM.\n",
    "    3 = Default, based on what is available.\n",
    "\"\"\"\n",
    "config = '--psm 12 --oem 2 --dpi ' + str(dpi)\n"
   ]
  },
  {
   "cell_type": "code",
   "execution_count": 4,
   "metadata": {},
   "outputs": [],
   "source": [
    "# store each pdf images from the pdfs directory\n",
    "dir_images = []\n",
    "# TODO(leommiranda): should I use cropbox instead of mediabox?\n",
    "for pdf_path in listdir(path):\n",
    "    try:\n",
    "        # TODO(leommiranda): substituir este erro por um conversor de pdf normal para texto\n",
    "        text = dadasd\n",
    "    except:\n",
    "        pdf_images = convert_from_path(pdf_path=path+pdf_path, \n",
    "                                       dpi=dpi, \n",
    "                                       first_page=first_page, \n",
    "                                       last_page=last_page, \n",
    "                                       thread_count=thread_count, \n",
    "                                       size=size)\n",
    "        dir_images.append(pdf_images)"
   ]
  },
  {
   "cell_type": "code",
   "execution_count": 5,
   "metadata": {},
   "outputs": [
    {
     "ename": "TesseractError",
     "evalue": "(1, \"read_params_file: Can't open 450 Failed loading language 'eng' Tesseract couldn't load any languages! Could not initialize tesseract.\")",
     "output_type": "error",
     "traceback": [
      "\u001b[0;31m---------------------------------------------------------------------------\u001b[0m",
      "\u001b[0;31mTesseractError\u001b[0m                            Traceback (most recent call last)",
      "\u001b[0;32m<ipython-input-5-ccec882ec77f>\u001b[0m in \u001b[0;36m<module>\u001b[0;34m\u001b[0m\n\u001b[1;32m     28\u001b[0m             \u001b[0;31m# portuguese document\u001b[0m\u001b[0;34m\u001b[0m\u001b[0;34m\u001b[0m\u001b[0;34m\u001b[0m\u001b[0m\n\u001b[1;32m     29\u001b[0m             \u001b[0mlang\u001b[0m \u001b[0;34m=\u001b[0m \u001b[0;34m'por'\u001b[0m\u001b[0;34m\u001b[0m\u001b[0;34m\u001b[0m\u001b[0m\n\u001b[0;32m---> 30\u001b[0;31m         \u001b[0mpdf_text\u001b[0m \u001b[0;34m=\u001b[0m \u001b[0mpytesseract\u001b[0m\u001b[0;34m.\u001b[0m\u001b[0mimage_to_string\u001b[0m\u001b[0;34m(\u001b[0m\u001b[0mImage\u001b[0m\u001b[0;34m.\u001b[0m\u001b[0mfromarray\u001b[0m\u001b[0;34m(\u001b[0m\u001b[0mpdf_img\u001b[0m\u001b[0;34m)\u001b[0m\u001b[0;34m,\u001b[0m \u001b[0mlang\u001b[0m\u001b[0;34m=\u001b[0m\u001b[0mlang\u001b[0m\u001b[0;34m,\u001b[0m \u001b[0mconfig\u001b[0m\u001b[0;34m=\u001b[0m\u001b[0mconfig\u001b[0m\u001b[0;34m)\u001b[0m\u001b[0;34m\u001b[0m\u001b[0;34m\u001b[0m\u001b[0m\n\u001b[0m\u001b[1;32m     31\u001b[0m         \u001b[0mprint\u001b[0m\u001b[0;34m(\u001b[0m\u001b[0;34m\"\\n\\nPATH \"\u001b[0m \u001b[0;34m+\u001b[0m \u001b[0mstr\u001b[0m\u001b[0;34m(\u001b[0m\u001b[0mi\u001b[0m\u001b[0;34m)\u001b[0m \u001b[0;34m+\u001b[0m \u001b[0;34m\" | \"\u001b[0m \u001b[0;34m+\u001b[0m \u001b[0mstr\u001b[0m\u001b[0;34m(\u001b[0m\u001b[0mj\u001b[0m\u001b[0;34m)\u001b[0m \u001b[0;34m+\u001b[0m \u001b[0;34m\"\\n\\n\\n\"\u001b[0m \u001b[0;34m+\u001b[0m \u001b[0mpdf_text\u001b[0m\u001b[0;34m)\u001b[0m\u001b[0;34m\u001b[0m\u001b[0;34m\u001b[0m\u001b[0m\n",
      "\u001b[0;32m/opt/conda/lib/python3.7/site-packages/pytesseract/pytesseract.py\u001b[0m in \u001b[0;36mimage_to_string\u001b[0;34m(image, lang, config, nice, output_type, timeout)\u001b[0m\n\u001b[1;32m    346\u001b[0m         \u001b[0mOutput\u001b[0m\u001b[0;34m.\u001b[0m\u001b[0mDICT\u001b[0m\u001b[0;34m:\u001b[0m \u001b[0;32mlambda\u001b[0m\u001b[0;34m:\u001b[0m \u001b[0;34m{\u001b[0m\u001b[0;34m'text'\u001b[0m\u001b[0;34m:\u001b[0m \u001b[0mrun_and_get_output\u001b[0m\u001b[0;34m(\u001b[0m\u001b[0;34m*\u001b[0m\u001b[0margs\u001b[0m\u001b[0;34m)\u001b[0m\u001b[0;34m}\u001b[0m\u001b[0;34m,\u001b[0m\u001b[0;34m\u001b[0m\u001b[0;34m\u001b[0m\u001b[0m\n\u001b[1;32m    347\u001b[0m         \u001b[0mOutput\u001b[0m\u001b[0;34m.\u001b[0m\u001b[0mSTRING\u001b[0m\u001b[0;34m:\u001b[0m \u001b[0;32mlambda\u001b[0m\u001b[0;34m:\u001b[0m \u001b[0mrun_and_get_output\u001b[0m\u001b[0;34m(\u001b[0m\u001b[0;34m*\u001b[0m\u001b[0margs\u001b[0m\u001b[0;34m)\u001b[0m\u001b[0;34m,\u001b[0m\u001b[0;34m\u001b[0m\u001b[0;34m\u001b[0m\u001b[0m\n\u001b[0;32m--> 348\u001b[0;31m     }[output_type]()\n\u001b[0m\u001b[1;32m    349\u001b[0m \u001b[0;34m\u001b[0m\u001b[0m\n\u001b[1;32m    350\u001b[0m \u001b[0;34m\u001b[0m\u001b[0m\n",
      "\u001b[0;32m/opt/conda/lib/python3.7/site-packages/pytesseract/pytesseract.py\u001b[0m in \u001b[0;36m<lambda>\u001b[0;34m()\u001b[0m\n\u001b[1;32m    345\u001b[0m         \u001b[0mOutput\u001b[0m\u001b[0;34m.\u001b[0m\u001b[0mBYTES\u001b[0m\u001b[0;34m:\u001b[0m \u001b[0;32mlambda\u001b[0m\u001b[0;34m:\u001b[0m \u001b[0mrun_and_get_output\u001b[0m\u001b[0;34m(\u001b[0m\u001b[0;34m*\u001b[0m\u001b[0;34m(\u001b[0m\u001b[0margs\u001b[0m \u001b[0;34m+\u001b[0m \u001b[0;34m[\u001b[0m\u001b[0;32mTrue\u001b[0m\u001b[0;34m]\u001b[0m\u001b[0;34m)\u001b[0m\u001b[0;34m)\u001b[0m\u001b[0;34m,\u001b[0m\u001b[0;34m\u001b[0m\u001b[0;34m\u001b[0m\u001b[0m\n\u001b[1;32m    346\u001b[0m         \u001b[0mOutput\u001b[0m\u001b[0;34m.\u001b[0m\u001b[0mDICT\u001b[0m\u001b[0;34m:\u001b[0m \u001b[0;32mlambda\u001b[0m\u001b[0;34m:\u001b[0m \u001b[0;34m{\u001b[0m\u001b[0;34m'text'\u001b[0m\u001b[0;34m:\u001b[0m \u001b[0mrun_and_get_output\u001b[0m\u001b[0;34m(\u001b[0m\u001b[0;34m*\u001b[0m\u001b[0margs\u001b[0m\u001b[0;34m)\u001b[0m\u001b[0;34m}\u001b[0m\u001b[0;34m,\u001b[0m\u001b[0;34m\u001b[0m\u001b[0;34m\u001b[0m\u001b[0m\n\u001b[0;32m--> 347\u001b[0;31m         \u001b[0mOutput\u001b[0m\u001b[0;34m.\u001b[0m\u001b[0mSTRING\u001b[0m\u001b[0;34m:\u001b[0m \u001b[0;32mlambda\u001b[0m\u001b[0;34m:\u001b[0m \u001b[0mrun_and_get_output\u001b[0m\u001b[0;34m(\u001b[0m\u001b[0;34m*\u001b[0m\u001b[0margs\u001b[0m\u001b[0;34m)\u001b[0m\u001b[0;34m,\u001b[0m\u001b[0;34m\u001b[0m\u001b[0;34m\u001b[0m\u001b[0m\n\u001b[0m\u001b[1;32m    348\u001b[0m     }[output_type]()\n\u001b[1;32m    349\u001b[0m \u001b[0;34m\u001b[0m\u001b[0m\n",
      "\u001b[0;32m/opt/conda/lib/python3.7/site-packages/pytesseract/pytesseract.py\u001b[0m in \u001b[0;36mrun_and_get_output\u001b[0;34m(image, extension, lang, config, nice, timeout, return_bytes)\u001b[0m\n\u001b[1;32m    256\u001b[0m         }\n\u001b[1;32m    257\u001b[0m \u001b[0;34m\u001b[0m\u001b[0m\n\u001b[0;32m--> 258\u001b[0;31m         \u001b[0mrun_tesseract\u001b[0m\u001b[0;34m(\u001b[0m\u001b[0;34m**\u001b[0m\u001b[0mkwargs\u001b[0m\u001b[0;34m)\u001b[0m\u001b[0;34m\u001b[0m\u001b[0;34m\u001b[0m\u001b[0m\n\u001b[0m\u001b[1;32m    259\u001b[0m         \u001b[0mfilename\u001b[0m \u001b[0;34m=\u001b[0m \u001b[0mkwargs\u001b[0m\u001b[0;34m[\u001b[0m\u001b[0;34m'output_filename_base'\u001b[0m\u001b[0;34m]\u001b[0m \u001b[0;34m+\u001b[0m \u001b[0mextsep\u001b[0m \u001b[0;34m+\u001b[0m \u001b[0mextension\u001b[0m\u001b[0;34m\u001b[0m\u001b[0;34m\u001b[0m\u001b[0m\n\u001b[1;32m    260\u001b[0m         \u001b[0;32mwith\u001b[0m \u001b[0mopen\u001b[0m\u001b[0;34m(\u001b[0m\u001b[0mfilename\u001b[0m\u001b[0;34m,\u001b[0m \u001b[0;34m'rb'\u001b[0m\u001b[0;34m)\u001b[0m \u001b[0;32mas\u001b[0m \u001b[0moutput_file\u001b[0m\u001b[0;34m:\u001b[0m\u001b[0;34m\u001b[0m\u001b[0;34m\u001b[0m\u001b[0m\n",
      "\u001b[0;32m/opt/conda/lib/python3.7/site-packages/pytesseract/pytesseract.py\u001b[0m in \u001b[0;36mrun_tesseract\u001b[0;34m(input_filename, output_filename_base, extension, lang, config, nice, timeout)\u001b[0m\n\u001b[1;32m    232\u001b[0m     \u001b[0;32mwith\u001b[0m \u001b[0mtimeout_manager\u001b[0m\u001b[0;34m(\u001b[0m\u001b[0mproc\u001b[0m\u001b[0;34m,\u001b[0m \u001b[0mtimeout\u001b[0m\u001b[0;34m)\u001b[0m \u001b[0;32mas\u001b[0m \u001b[0merror_string\u001b[0m\u001b[0;34m:\u001b[0m\u001b[0;34m\u001b[0m\u001b[0;34m\u001b[0m\u001b[0m\n\u001b[1;32m    233\u001b[0m         \u001b[0;32mif\u001b[0m \u001b[0mproc\u001b[0m\u001b[0;34m.\u001b[0m\u001b[0mreturncode\u001b[0m\u001b[0;34m:\u001b[0m\u001b[0;34m\u001b[0m\u001b[0;34m\u001b[0m\u001b[0m\n\u001b[0;32m--> 234\u001b[0;31m             \u001b[0;32mraise\u001b[0m \u001b[0mTesseractError\u001b[0m\u001b[0;34m(\u001b[0m\u001b[0mproc\u001b[0m\u001b[0;34m.\u001b[0m\u001b[0mreturncode\u001b[0m\u001b[0;34m,\u001b[0m \u001b[0mget_errors\u001b[0m\u001b[0;34m(\u001b[0m\u001b[0merror_string\u001b[0m\u001b[0;34m)\u001b[0m\u001b[0;34m)\u001b[0m\u001b[0;34m\u001b[0m\u001b[0;34m\u001b[0m\u001b[0m\n\u001b[0m\u001b[1;32m    235\u001b[0m \u001b[0;34m\u001b[0m\u001b[0m\n\u001b[1;32m    236\u001b[0m \u001b[0;34m\u001b[0m\u001b[0m\n",
      "\u001b[0;31mTesseractError\u001b[0m: (1, \"read_params_file: Can't open 450 Failed loading language 'eng' Tesseract couldn't load any languages! Could not initialize tesseract.\")"
     ]
    }
   ],
   "source": [
    "# TODO(leommiranda): urgently automate the comparison of extracted text and real text\n",
    "\"\"\"\n",
    "TODO(leommiranda): Apply pytesseract.image_to_boxes OR\n",
    "    a pre-trained Text Detector such as OpenCV \"EAST Text Detector\" \n",
    "    to remove the document borders, keeping only the text.\n",
    "    This should improve the OCR accuracy.\n",
    "\"\"\"\n",
    "j = 0\n",
    "i = 0\n",
    "for pdf_images in dir_images:\n",
    "    j += 1\n",
    "    for pdf_img in pdf_images:\n",
    "        i += 1\n",
    "        pdf_img = np.array(pdf_img.convert('RGB'))\n",
    "        pdf_img = cv2.cvtColor(pdf_img, cv2.COLOR_RGB2GRAY)\n",
    "        # makes adaptiveThreshold run faster and remove noise\n",
    "        pdf_img = cv2.bilateralFilter(pdf_img, 17, 75, 75)\n",
    "        # deals better with ilumination issues than the OTSU threshold algorithm \n",
    "            # which is the tesseract default algorithm.\n",
    "        # If ilumination isn't a big deal, remeber to comment out bilateralFilter() and adaptiveThreshold()\n",
    "        pdf_img = cv2.adaptiveThreshold(pdf_img, 255, cv2.ADAPTIVE_THRESH_MEAN_C, cv2.THRESH_BINARY, 11, 2)\n",
    "        # close operation, it seems unuseful here\n",
    "        # pdf_img = cv2.morphologyEx(pdf_img, cv2.MORPH_CLOSE, (21,21))\n",
    "        if (i == 1 or i == 9 or i == 12 or i == 13):\n",
    "            # english document\n",
    "            lang = 'eng'\n",
    "        else:\n",
    "            # portuguese document\n",
    "            lang = 'por'\n",
    "        pdf_text = pytesseract.image_to_string(Image.fromarray(pdf_img), lang=lang, config=config)\n",
    "        print(\"\\n\\nPATH \" + str(i) + \" | \" + str(j) + \"\\n\\n\\n\" + pdf_text)"
   ]
  },
  {
   "cell_type": "code",
   "execution_count": null,
   "metadata": {},
   "outputs": [],
   "source": [
    "j = 0\n",
    "i = 0\n",
    "for pdf_images in dir_images:\n",
    "    j += 1\n",
    "    for pdf_img in pdf_images:\n",
    "        i += 1\n",
    "        pdf_img = np.array(pdf_img.convert('RGB'))\n",
    "        pdf_img = cv2.cvtColor(pdf_img, cv2.COLOR_RGB2GRAY)\n",
    "        ## if ilumination is not an issue, it's OK to comment out the bilateralFilter() and the adaptiveThreshold()\n",
    "        # pdf_img = cv2.bilateralFilter(pdf_img, 17, 75, 75)\n",
    "        # pdf_img = cv2.adaptiveThreshold(pdf_img, 255, cv2.ADAPTIVE_THRESH_MEAN_C, cv2.THRESH_BINARY, 11, 2)\n",
    "        ## close operation, it seems unuseful here\n",
    "        # pdf_img = cv2.morphologyEx(pdf_img, cv2.MORPH_CLOSE, (21,21))\n",
    "        if (i == 1 or i == 9 or i == 12 or i == 13):\n",
    "            # english\n",
    "            lang = 'eng'\n",
    "        else:\n",
    "            # portuguese\n",
    "            lang = 'por'\n",
    "        pdf_text = pytesseract.image_to_string(Image.fromarray(pdf_img), lang=lang, config=config)\n",
    "        print(\"\\n\\nPATH \" + str(i) + \" | \" + str(j) + \"\\n\\n\\n\" + pdf_text)"
   ]
  },
  {
   "cell_type": "code",
   "execution_count": null,
   "metadata": {},
   "outputs": [],
   "source": []
  }
 ],
 "metadata": {
  "kernelspec": {
   "display_name": "Python 3",
   "language": "python",
   "name": "python3"
  },
  "language_info": {
   "codemirror_mode": {
    "name": "ipython",
    "version": 3
   },
   "file_extension": ".py",
   "mimetype": "text/x-python",
   "name": "python",
   "nbconvert_exporter": "python",
   "pygments_lexer": "ipython3",
   "version": "3.7.3"
  }
 },
 "nbformat": 4,
 "nbformat_minor": 4
}
